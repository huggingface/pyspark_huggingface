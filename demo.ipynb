{
 "cells": [
  {
   "cell_type": "code",
   "execution_count": 11,
   "id": "125a1871-6cab-4dc4-9fd5-4e5dbd63ada6",
   "metadata": {},
   "outputs": [],
   "source": [
    "import warnings\n",
    "warnings.filterwarnings('ignore')"
   ]
  },
  {
   "cell_type": "code",
   "execution_count": 2,
   "id": "38dc7e9e-35fd-4604-9be3-1a1a8749fbcb",
   "metadata": {},
   "outputs": [],
   "source": [
    "from pyspark_huggingface import HuggingFaceDatasets"
   ]
  },
  {
   "cell_type": "code",
   "execution_count": 3,
   "id": "620d3ecb-b9cb-480c-b300-69198cce7a9c",
   "metadata": {},
   "outputs": [],
   "source": [
    "from pyspark.sql import SparkSession"
   ]
  },
  {
   "cell_type": "code",
   "execution_count": 12,
   "id": "9255ffcb-0b61-43dc-b57a-2b8af01a8432",
   "metadata": {},
   "outputs": [],
   "source": [
    "spark = SparkSession.builder.getOrCreate()"
   ]
  },
  {
   "cell_type": "code",
   "id": "7c4501a8-26f4-4f52-9dc8-a70393d567b4",
   "metadata": {},
   "source": [
    "spark.dataSource.register(HuggingFaceDatasets)"
   ],
   "outputs": [],
   "execution_count": null
  },
  {
   "cell_type": "code",
   "execution_count": 14,
   "id": "b8580bde-3f64-4c71-a087-8b3f71099aee",
   "metadata": {},
   "outputs": [],
   "source": [
    "df = spark.read.format(\"huggingface\").load(\"rotten_tomatoes\")"
   ]
  },
  {
   "cell_type": "code",
   "execution_count": 15,
   "id": "8866bdfb-0782-4430-8b1e-09c65e699f41",
   "metadata": {
    "editable": true,
    "slideshow": {
     "slide_type": ""
    },
    "tags": []
   },
   "outputs": [
    {
     "name": "stderr",
     "output_type": "stream",
     "text": [
      "[Stage 5:>                                                          (0 + 1) / 1]"
     ]
    },
    {
     "name": "stdout",
     "output_type": "stream",
     "text": [
      "+--------------------+-----+\n",
      "|                text|label|\n",
      "+--------------------+-----+\n",
      "|the rock is desti...|    1|\n",
      "|the gorgeously el...|    1|\n",
      "|effective but too...|    1|\n",
      "|if you sometimes ...|    1|\n",
      "|emerges as someth...|    1|\n",
      "|the film provides...|    1|\n",
      "|offers that rare ...|    1|\n",
      "|perhaps no pictur...|    1|\n",
      "|steers turns in a...|    1|\n",
      "|take care of my c...|    1|\n",
      "|this is a film we...|    1|\n",
      "|what really surpr...|    1|\n",
      "|( wendigo is ) wh...|    1|\n",
      "|one of the greate...|    1|\n",
      "|ultimately , it p...|    1|\n",
      "|an utterly compel...|    1|\n",
      "|illuminating if o...|    1|\n",
      "|a masterpiece fou...|    1|\n",
      "|the movie's ripe ...|    1|\n",
      "|offers a breath o...|    1|\n",
      "+--------------------+-----+\n",
      "only showing top 20 rows\n",
      "\n"
     ]
    },
    {
     "name": "stderr",
     "output_type": "stream",
     "text": [
      "                                                                                "
     ]
    }
   ],
   "source": [
    "df.show()"
   ]
  },
  {
   "cell_type": "code",
   "id": "873bb4fc-1424-4816-b835-6c2b839d3de4",
   "metadata": {},
   "source": [
    "df.count()"
   ],
   "outputs": [],
   "execution_count": null
  },
  {
   "cell_type": "code",
   "execution_count": null,
   "id": "4a1b895f-fe20-4520-a90d-b17df8e691e4",
   "metadata": {},
   "outputs": [],
   "source": []
  }
 ],
 "metadata": {
  "kernelspec": {
   "display_name": "pyspark_huggingface",
   "language": "python",
   "name": "pyspark_huggingface"
  },
  "language_info": {
   "codemirror_mode": {
    "name": "ipython",
    "version": 3
   },
   "file_extension": ".py",
   "mimetype": "text/x-python",
   "name": "python",
   "nbconvert_exporter": "python",
   "pygments_lexer": "ipython3",
   "version": "3.11.10"
  }
 },
 "nbformat": 4,
 "nbformat_minor": 5
}
